{
 "cells": [
  {
   "cell_type": "code",
   "execution_count": 29,
   "metadata": {},
   "outputs": [],
   "source": [
    "from __future__ import division, absolute_import\n",
    "import pandas as pd\n",
    "import numpy as np\n",
    "import forecastio\n",
    "import requests\n",
    "import os\n",
    "import csv\n",
    "from generate_data import get_geolocation_data\n",
    "from helpers import get_filepath\n",
    "\n",
    "source = 'locations.txt'\n",
    "target = 'geocoded_locations.txt'\n",
    "get_geolocation_data(source, target)\n",
    "api_key = '63ab81b2d8aee963f8e0c22cd4ec4650'"
   ]
  },
  {
   "cell_type": "code",
   "execution_count": 30,
   "metadata": {},
   "outputs": [],
   "source": [
    "locs = get_filepath('geocoded_locations.txt')\n",
    "with open(locs) as f:\n",
    "    location_list = [line.strip() for line in f]"
   ]
  },
  {
   "cell_type": "code",
   "execution_count": 31,
   "metadata": {},
   "outputs": [],
   "source": [
    "df = pd.read_csv(locs)"
   ]
  },
  {
   "cell_type": "code",
   "execution_count": 32,
   "metadata": {},
   "outputs": [
    {
     "name": "stdout",
     "output_type": "stream",
     "text": [
      "Sydney, Australia -33.8688197 151.2092955\n"
     ]
    }
   ],
   "source": [
    "for index, row in df.iterrows():\n",
    "    print row['location'], row['lat'], row['lng']"
   ]
  },
  {
   "cell_type": "code",
   "execution_count": 34,
   "metadata": {},
   "outputs": [],
   "source": [
    "for index, row in df.iterrows():\n",
    "    forecast = forecastio.load_forecast(api_key,\n",
    "                                        row['lat'],\n",
    "                                        row['lng'],\n",
    "                                        units='si')"
   ]
  },
  {
   "cell_type": "code",
   "execution_count": 36,
   "metadata": {},
   "outputs": [],
   "source": [
    "byHour = forecast.hourly()"
   ]
  },
  {
   "cell_type": "code",
   "execution_count": 40,
   "metadata": {},
   "outputs": [
    {
     "name": "stdout",
     "output_type": "stream",
     "text": [
      "<ForecastioDataPoint instance: Clear at 2018-01-21 04:00:00>\n",
      "<ForecastioDataPoint instance: Clear at 2018-01-21 05:00:00>\n",
      "<ForecastioDataPoint instance: Clear at 2018-01-21 06:00:00>\n",
      "<ForecastioDataPoint instance: Clear at 2018-01-21 07:00:00>\n",
      "<ForecastioDataPoint instance: Clear at 2018-01-21 08:00:00>\n",
      "<ForecastioDataPoint instance: Clear at 2018-01-21 09:00:00>\n",
      "<ForecastioDataPoint instance: Clear at 2018-01-21 10:00:00>\n",
      "<ForecastioDataPoint instance: Partly Cloudy at 2018-01-21 11:00:00>\n",
      "<ForecastioDataPoint instance: Partly Cloudy at 2018-01-21 12:00:00>\n",
      "<ForecastioDataPoint instance: Partly Cloudy at 2018-01-21 13:00:00>\n",
      "<ForecastioDataPoint instance: Partly Cloudy at 2018-01-21 14:00:00>\n",
      "<ForecastioDataPoint instance: Partly Cloudy at 2018-01-21 15:00:00>\n",
      "<ForecastioDataPoint instance: Partly Cloudy at 2018-01-21 16:00:00>\n",
      "<ForecastioDataPoint instance: Partly Cloudy at 2018-01-21 17:00:00>\n",
      "<ForecastioDataPoint instance: Clear at 2018-01-21 18:00:00>\n",
      "<ForecastioDataPoint instance: Partly Cloudy at 2018-01-21 19:00:00>\n",
      "<ForecastioDataPoint instance: Partly Cloudy at 2018-01-21 20:00:00>\n",
      "<ForecastioDataPoint instance: Partly Cloudy at 2018-01-21 21:00:00>\n",
      "<ForecastioDataPoint instance: Partly Cloudy at 2018-01-21 22:00:00>\n",
      "<ForecastioDataPoint instance: Partly Cloudy at 2018-01-21 23:00:00>\n",
      "<ForecastioDataPoint instance: Mostly Cloudy at 2018-01-22 00:00:00>\n",
      "<ForecastioDataPoint instance: Mostly Cloudy at 2018-01-22 01:00:00>\n",
      "<ForecastioDataPoint instance: Mostly Cloudy at 2018-01-22 02:00:00>\n",
      "<ForecastioDataPoint instance: Overcast at 2018-01-22 03:00:00>\n",
      "<ForecastioDataPoint instance: Overcast at 2018-01-22 04:00:00>\n",
      "<ForecastioDataPoint instance: Overcast at 2018-01-22 05:00:00>\n",
      "<ForecastioDataPoint instance: Overcast at 2018-01-22 06:00:00>\n",
      "<ForecastioDataPoint instance: Mostly Cloudy at 2018-01-22 07:00:00>\n",
      "<ForecastioDataPoint instance: Mostly Cloudy at 2018-01-22 08:00:00>\n",
      "<ForecastioDataPoint instance: Mostly Cloudy at 2018-01-22 09:00:00>\n",
      "<ForecastioDataPoint instance: Mostly Cloudy at 2018-01-22 10:00:00>\n",
      "<ForecastioDataPoint instance: Mostly Cloudy at 2018-01-22 11:00:00>\n",
      "<ForecastioDataPoint instance: Mostly Cloudy at 2018-01-22 12:00:00>\n",
      "<ForecastioDataPoint instance: Mostly Cloudy at 2018-01-22 13:00:00>\n",
      "<ForecastioDataPoint instance: Overcast at 2018-01-22 14:00:00>\n",
      "<ForecastioDataPoint instance: Overcast at 2018-01-22 15:00:00>\n",
      "<ForecastioDataPoint instance: Overcast at 2018-01-22 16:00:00>\n",
      "<ForecastioDataPoint instance: Overcast at 2018-01-22 17:00:00>\n",
      "<ForecastioDataPoint instance: Overcast at 2018-01-22 18:00:00>\n",
      "<ForecastioDataPoint instance: Overcast at 2018-01-22 19:00:00>\n",
      "<ForecastioDataPoint instance: Overcast at 2018-01-22 20:00:00>\n",
      "<ForecastioDataPoint instance: Overcast at 2018-01-22 21:00:00>\n",
      "<ForecastioDataPoint instance: Overcast at 2018-01-22 22:00:00>\n",
      "<ForecastioDataPoint instance: Overcast at 2018-01-22 23:00:00>\n",
      "<ForecastioDataPoint instance: Overcast at 2018-01-23 00:00:00>\n",
      "<ForecastioDataPoint instance: Overcast at 2018-01-23 01:00:00>\n",
      "<ForecastioDataPoint instance: Overcast at 2018-01-23 02:00:00>\n",
      "<ForecastioDataPoint instance: Overcast at 2018-01-23 03:00:00>\n",
      "<ForecastioDataPoint instance: Overcast at 2018-01-23 04:00:00>\n"
     ]
    }
   ],
   "source": [
    "for hourlyData in byHour.data:\n",
    "    print hourlyData"
   ]
  },
  {
   "cell_type": "code",
   "execution_count": null,
   "metadata": {},
   "outputs": [],
   "source": []
  }
 ],
 "metadata": {
  "kernelspec": {
   "display_name": "Python 2",
   "language": "python",
   "name": "python2"
  },
  "language_info": {
   "codemirror_mode": {
    "name": "ipython",
    "version": 2
   },
   "file_extension": ".py",
   "mimetype": "text/x-python",
   "name": "python",
   "nbconvert_exporter": "python",
   "pygments_lexer": "ipython2",
   "version": "2.7.12"
  }
 },
 "nbformat": 4,
 "nbformat_minor": 2
}
