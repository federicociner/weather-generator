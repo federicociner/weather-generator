{
 "cells": [
  {
   "cell_type": "code",
   "execution_count": 76,
   "metadata": {},
   "outputs": [],
   "source": [
    "from __future__ import division, absolute_import\n",
    "import pandas as pd\n",
    "import numpy as np\n",
    "import datetime as dt\n",
    "import forecastio\n",
    "import requests\n",
    "import os\n",
    "import csv\n",
    "from generate_data import get_geolocation_data\n",
    "from helpers import get_filepath\n",
    "\n",
    "source = 'locations.txt'\n",
    "target = 'geocoded_locations.txt'\n",
    "get_geolocation_data(source, target)\n",
    "api_key = '63ab81b2d8aee963f8e0c22cd4ec4650'"
   ]
  },
  {
   "cell_type": "code",
   "execution_count": 77,
   "metadata": {},
   "outputs": [],
   "source": [
    "locs = get_filepath('geocoded_locations.txt')\n",
    "with open(locs) as f:\n",
    "    location_list = [line.strip() for line in f]\n",
    "    \n",
    "df = pd.read_csv(locs)\n",
    "for index, row in df.iterrows():\n",
    "    forecast = forecastio.load_forecast(api_key,\n",
    "                                        row['lat'],\n",
    "                                        row['lng'],\n",
    "                                        units='si')"
   ]
  },
  {
   "cell_type": "code",
   "execution_count": 82,
   "metadata": {},
   "outputs": [
    {
     "name": "stdout",
     "output_type": "stream",
     "text": [
      "2018-01-21 08:00:00 2.91 0.66 clear-night 2.14 -2.76 324\n",
      "2018-01-21 09:00:00 2.63 0.69 partly-cloudy-night 2.92 -2.45 296\n",
      "2018-01-21 10:00:00 2.25 0.73 partly-cloudy-night 4.03 -2.08 248\n",
      "2018-01-21 11:00:00 1.93 0.75 clear-night 4.52 -1.97 280\n",
      "2018-01-21 12:00:00 2 0.75 clear-night 4.44 -1.88 275\n",
      "2018-01-21 13:00:00 2.7 0.74 clear-day 4.22 -1.53 250\n",
      "2018-01-21 14:00:00 3.87 0.71 partly-cloudy-day 3.88 -0.96 313\n",
      "2018-01-21 15:00:00 5.11 0.68 partly-cloudy-day 3.63 -0.38 289\n",
      "2018-01-21 16:00:00 6.29 0.65 partly-cloudy-day 3.52 0.17 296\n",
      "2018-01-21 17:00:00 7.35 0.63 partly-cloudy-day 3.5 0.74 269\n",
      "2018-01-21 18:00:00 7.97 0.62 partly-cloudy-day 3.43 1.24 286\n",
      "2018-01-21 19:00:00 8.06 0.64 partly-cloudy-day 3.16 1.63 338\n",
      "2018-01-21 20:00:00 7.91 0.66 partly-cloudy-day 2.79 1.93 199\n",
      "2018-01-21 21:00:00 7.59 0.68 partly-cloudy-day 2.5 2.14 252\n",
      "2018-01-21 22:00:00 7.26 0.7 partly-cloudy-night 2.42 2.16 275\n",
      "2018-01-21 23:00:00 6.17 0.75 partly-cloudy-night 2.47 2.05 243\n",
      "2018-01-22 00:00:00 5.13 0.8 partly-cloudy-night 2.63 1.94 238\n",
      "2018-01-22 01:00:00 4.51 0.83 partly-cloudy-night 2.92 1.82 235\n",
      "2018-01-22 02:00:00 4.13 0.84 partly-cloudy-night 3.29 1.73 225\n",
      "2018-01-22 03:00:00 3.91 0.86 cloudy 3.41 1.76 214\n",
      "2018-01-22 04:00:00 3.82 0.87 cloudy 3 1.92 200\n",
      "2018-01-22 05:00:00 3.84 0.89 cloudy 2.32 2.19 184\n",
      "2018-01-22 06:00:00 3.89 0.9 cloudy 1.92 2.42 173\n",
      "2018-01-22 07:00:00 4.04 0.91 cloudy 2.09 2.64 169\n",
      "2018-01-22 08:00:00 4.28 0.9 cloudy 2.52 2.83 170\n",
      "2018-01-22 09:00:00 4.56 0.89 cloudy 2.76 2.93 175\n",
      "2018-01-22 10:00:00 4.75 0.88 cloudy 2.62 2.91 180\n",
      "2018-01-22 11:00:00 4.83 0.87 cloudy 2.29 2.78 187\n",
      "2018-01-22 12:00:00 4.92 0.86 cloudy 2.03 2.78 191\n",
      "2018-01-22 13:00:00 5.26 0.86 cloudy 1.9 3.04 187\n",
      "2018-01-22 14:00:00 5.77 0.85 cloudy 1.82 3.44 179\n",
      "2018-01-22 15:00:00 6.38 0.84 cloudy 1.76 3.83 172\n",
      "2018-01-22 16:00:00 6.99 0.82 cloudy 1.71 4.13 163\n",
      "2018-01-22 17:00:00 7.49 0.81 cloudy 1.67 4.41 150\n",
      "2018-01-22 18:00:00 7.95 0.8 cloudy 1.7 4.64 137\n",
      "2018-01-22 19:00:00 8.22 0.79 cloudy 1.78 4.85 127\n",
      "2018-01-22 20:00:00 8.36 0.79 cloudy 1.94 5.01 117\n",
      "2018-01-22 21:00:00 8.17 0.8 cloudy 2.24 5.01 110\n",
      "2018-01-22 22:00:00 7.58 0.82 cloudy 2.74 4.69 108\n",
      "2018-01-22 23:00:00 6.73 0.84 cloudy 3.39 4.22 109\n",
      "2018-01-23 00:00:00 6.12 0.85 fog 4.18 3.84 113\n",
      "2018-01-23 01:00:00 5.68 0.87 fog 5.25 3.65 119\n",
      "2018-01-23 02:00:00 5.41 0.88 fog 6.46 3.58 128\n",
      "2018-01-23 03:00:00 5.27 0.89 fog 7.37 3.57 136\n",
      "2018-01-23 04:00:00 5.19 0.9 fog 7.61 3.69 141\n",
      "2018-01-23 05:00:00 5.28 0.91 fog 7.54 3.88 145\n",
      "2018-01-23 06:00:00 5.44 0.91 fog 7.81 4.09 149\n",
      "2018-01-23 07:00:00 5.7 0.9 fog 8.59 4.2 152\n",
      "2018-01-23 08:00:00 6.11 0.88 fog 9.71 4.34 154\n"
     ]
    }
   ],
   "source": [
    "\n",
    "\n",
    "for hour in forecast.hourly().data:\n",
    "    print hour.time, hour.temperature, hour.humidity, hour.icon, hour.windGust, hour.dewPoint, hour.windBearing\n",
    "    \n",
    "#     \"sunriseTime\": 1509967519,\n",
    "#                   \"sunsetTime\": 1510003982,\n",
    "#                   \"moonPhase\": 0.59,\n",
    "#                   \"precipIntensity\": 0.0088,\n",
    "#                   \"precipIntensityMax\": 0.0725,\n",
    "#                   \"precipIntensityMaxTime\": 1510002000,\n",
    "#                   \"precipProbability\": 0.73,\n",
    "#                   \"precipType\": \"rain\",\n",
    "#                   \"temperatureHigh\": 66.35,\n",
    "#                   \"temperatureHighTime\": 1509994800,\n",
    "#                   \"temperatureLow\": 41.28,\n",
    "#                   \"temperatureLowTime\": 1510056000,\n",
    "#                   \"apparentTemperatureHigh\": 66.53,\n",
    "#                   \"apparentTemperatureHighTime\": 1509994800,\n",
    "#                   \"apparentTemperatureLow\": 35.74,\n",
    "#                   \"apparentTemperatureLowTime\": 1510056000,\n",
    "#                   \"dewPoint\": 57.66,\n",
    "#                   \"humidity\": 0.86,\n",
    "#                   \"pressure\": 1012.93,\n",
    "#                   \"windSpeed\": 3.22,\n",
    "#                   \"windGust\": 26.32,\n",
    "#                   \"windGustTime\": 1510023600,\n",
    "#                   \"windBearing\": 270,\n",
    "#                   \"cloudCover\": 0.8,\n",
    "#                   \"uvIndex\": 2,\n",
    "#                   \"uvIndexTime\": 1509987600,\n",
    "#                   \"visibility\": 10,\n",
    "#                   \"ozone\": 269.45,\n",
    "#                   \"temperatureMin\": 52.08,\n",
    "#                   \"temperatureMinTime\": 1510027200,\n",
    "#                   \"temperatureMax\": 66.35,\n",
    "#                   \"temperatureMaxTime\": 1509994800,\n",
    "#                   \"apparentTemperatureMin\": 52.08,\n",
    "#                   \"apparentTemperatureMinTime\": 1510027200,\n",
    "#                   \"apparentTemperatureMax\": 66.53,\n",
    "#                   \"apparentTemperatureMaxTime\": 1509994800"
   ]
  },
  {
   "cell_type": "code",
   "execution_count": 68,
   "metadata": {},
   "outputs": [],
   "source": [
    "time = dt.datetime(2015, 1, 1).isoformat()"
   ]
  },
  {
   "cell_type": "code",
   "execution_count": 69,
   "metadata": {},
   "outputs": [
    {
     "data": {
      "text/plain": [
       "'2015-01-01T00:00:00'"
      ]
     },
     "execution_count": 69,
     "metadata": {},
     "output_type": "execute_result"
    }
   ],
   "source": [
    "time"
   ]
  },
  {
   "cell_type": "code",
   "execution_count": 84,
   "metadata": {},
   "outputs": [
    {
     "data": {
      "text/plain": [
       "u'partly-cloudy-night'"
      ]
     },
     "execution_count": 84,
     "metadata": {},
     "output_type": "execute_result"
    }
   ],
   "source": [
    "forecast.hourly().icon"
   ]
  },
  {
   "cell_type": "code",
   "execution_count": null,
   "metadata": {},
   "outputs": [],
   "source": []
  }
 ],
 "metadata": {
  "kernelspec": {
   "display_name": "Python 2",
   "language": "python",
   "name": "python2"
  },
  "language_info": {
   "codemirror_mode": {
    "name": "ipython",
    "version": 2
   },
   "file_extension": ".py",
   "mimetype": "text/x-python",
   "name": "python",
   "nbconvert_exporter": "python",
   "pygments_lexer": "ipython2",
   "version": "2.7.12"
  }
 },
 "nbformat": 4,
 "nbformat_minor": 2
}
