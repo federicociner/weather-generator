{
 "cells": [
  {
   "cell_type": "code",
   "execution_count": 4,
   "metadata": {},
   "outputs": [],
   "source": [
    "from __future__ import division, absolute_import\n",
    "import pandas as pd\n",
    "import numpy as np\n",
    "import datetime as dt\n",
    "import forecastio\n",
    "import requests\n",
    "import os\n",
    "import csv\n",
    "from generate_data import get_geolocation_data\n",
    "from helpers import get_filepath, daterange, save_data\n",
    "\n",
    "source = 'locations.txt'\n",
    "target = 'geocoded_locations.txt'\n",
    "get_geolocation_data(source, target)\n",
    "api_key = '63ab81b2d8aee963f8e0c22cd4ec4650'"
   ]
  },
  {
   "cell_type": "code",
   "execution_count": 23,
   "metadata": {},
   "outputs": [],
   "source": [
    "start_date = dt.datetime(2017, 1, 1)\n",
    "end_date = dt.datetime(2017, 1, 2)\n",
    "locs = 'geocoded_locations.txt'\n",
    "cols = 'columns.txt'\n",
    "\n",
    "locs_path = get_filepath(locs)\n",
    "locs = pd.read_csv(locs_path)\n",
    "\n",
    "# get columns list\n",
    "columns = get_filepath(cols)\n",
    "with open(columns) as f:\n",
    "    cols = [line.strip() for line in f]\n",
    "\n",
    "# extract data for each location for date range b/w start and end date\n",
    "for index, row in locs.iterrows():\n",
    "    tbl = []\n",
    "    for single_date in daterange(start_date, end_date):\n",
    "        forecast = forecastio.load_forecast(api_key,\n",
    "                                            row['lat'],\n",
    "                                            row['lng'],\n",
    "                                            time=single_date,\n",
    "                                            units='si')\n",
    "        h = forecast.hourly()\n",
    "        d = h.data\n",
    "        for p in d:\n",
    "            # get date info\n",
    "            utc = p.d['time']\n",
    "            dts = dt.datetime.utcfromtimestamp(utc)\n",
    "            isodate = dt.datetime.utcfromtimestamp(utc).isoformat()\n",
    "            date_info = [isodate, dts.year, dts.month, dts.day, dts.hour]\n",
    "\n",
    "            # get location info\n",
    "            loc_info = [row['location'], row['lat'], row['lng']]\n",
    "\n",
    "            # get weather attributes\n",
    "            attr_info = [p.d['icon'], p.d['precipProbability'], p.d['temperature'], p.d['dewPoint'], p.d['humidity'] * 100, p.d['pressure'], p.d['windSpeed'], p.d['visibility']]\n",
    "            tbl.append(loc_info + date_info + attr_info)\n",
    "\n",
    "    # convert output to data frame\n",
    "    df = pd.DataFrame(tbl)\n",
    "    df.columns = cols\n",
    "    df.name = row['location']\n",
    "    sd_str = str(start_date.date())\n",
    "    ed_str = str(end_date.date())\n",
    "    filename = '_'.join([df.name, sd_str, ed_str]) + '.csv'\n",
    "    save_data(df, filename, sep='|')"
   ]
  },
  {
   "cell_type": "code",
   "execution_count": null,
   "metadata": {},
   "outputs": [],
   "source": [
    "          \"time\": 1509991200,\n",
    "                  \"summary\": \"Mostly Cloudy\",\n",
    "                  \"icon\": \"partly-cloudy-day\",\n",
    "                  \"precipIntensity\": 0.0007,\n",
    "                  \"precipProbability\": 0.1,\n",
    "                  \"precipType\": \"rain\",\n",
    "                  \"temperature\": 65.76,\n",
    "                  \"apparentTemperature\": 66.01,\n",
    "                  \"dewPoint\": 60.99,\n",
    "                  \"humidity\": 0.85,\n",
    "                  \"pressure\": 1010.57,\n",
    "                  \"windSpeed\": 4.23,\n",
    "                  \"windGust\": 9.52,\n",
    "                  \"windBearing\": 230,\n",
    "                  \"cloudCover\": 0.62,\n",
    "                  \"uvIndex\": 1,\n",
    "                  \"visibility\": 9.32,\n",
    "                  \"ozone\": 268.95"
   ]
  }
 ],
 "metadata": {
  "anaconda-cloud": {},
  "kernelspec": {
   "display_name": "Python 2",
   "language": "python",
   "name": "python2"
  },
  "language_info": {
   "codemirror_mode": {
    "name": "ipython",
    "version": 2
   },
   "file_extension": ".py",
   "mimetype": "text/x-python",
   "name": "python",
   "nbconvert_exporter": "python",
   "pygments_lexer": "ipython2",
   "version": "2.7.12"
  }
 },
 "nbformat": 4,
 "nbformat_minor": 2
}
